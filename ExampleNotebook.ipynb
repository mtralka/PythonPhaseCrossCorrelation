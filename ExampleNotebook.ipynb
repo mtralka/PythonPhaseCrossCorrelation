{
 "cells": [
  {
   "cell_type": "markdown",
   "metadata": {},
   "source": [
    "# Optimized Python Phase Cross Correlation Example Notebook\n",
    "\n",
    "@title: Optimized Python Phase Cross Correlation\n",
    "\n",
    "@author: Matthew Tralka\n",
    "\n",
    "@date: September 2021\n",
    "\n",
    "@version: 1.0"
   ]
  },
  {
   "cell_type": "code",
   "execution_count": 1,
   "metadata": {},
   "outputs": [],
   "source": [
    "from PythonPhaseCrossCorrelation import PhaseCorrelationControl"
   ]
  },
  {
   "cell_type": "markdown",
   "metadata": {},
   "source": [
    "## Pass in `reference_arr` and `moving_arr` as strings"
   ]
  },
  {
   "cell_type": "code",
   "execution_count": 4,
   "metadata": {},
   "outputs": [],
   "source": [
    "base_path = \"./tests/IMG_DATA/\"\n",
    "reference = \"T18SUJ_20180809T154901_B04.jp2\"\n",
    "moving = \"T18SUJ_20180809T154901_B02.jp2\""
   ]
  },
  {
   "cell_type": "code",
   "execution_count": 5,
   "metadata": {},
   "outputs": [
    {
     "name": "stdout",
     "output_type": "stream",
     "text": [
      "126.27175272072384\n",
      "Complete in: 0:00:50.544999\n"
     ]
    },
    {
     "data": {
      "text/plain": [
       "<PythonPhaseCrossCorrelation.PCC.PhaseCorrelationControl.PhaseCorrelationControl at 0x1d00f8c4208>"
      ]
     },
     "execution_count": 5,
     "metadata": {},
     "output_type": "execute_result"
    }
   ],
   "source": [
    "PhaseCorrelationControl(\n",
    "        base_path + reference,\n",
    "        base_path + moving,\n",
    "        upsample=0,\n",
    "        auto_save=True\n",
    "    )"
   ]
  },
  {
   "cell_type": "markdown",
   "metadata": {},
   "source": [
    "## Pass in `reference_arr` and `moving_arr` as np.ndarrays"
   ]
  },
  {
   "cell_type": "markdown",
   "metadata": {},
   "source": [
    "Since `reference_arr` and `moving_arr` are passed as np.ndarrays - `out_out_geo_transform` and `out_projection_ref` must be manually given in object init to enable `.save()`"
   ]
  },
  {
   "cell_type": "code",
   "execution_count": 10,
   "metadata": {},
   "outputs": [],
   "source": [
    "import gdal\n",
    "import numpy as np\n",
    "import os\n",
    "\n",
    "def open_as_array(filename: str, band: int = 1, dtype: str = \"int16\"):\n",
    "\n",
    "    file_ds = gdal.Open(filename)\n",
    "\n",
    "    if file_ds is None:\n",
    "        raise FileNotFoundError(\"GDAL failed to open `file`\")\n",
    "\n",
    "    file_arr: np.ndarray = np.array(\n",
    "        file_ds.GetRasterBand(band).ReadAsArray()\n",
    "    ).astype(dtype)\n",
    "\n",
    "    gt = file_ds.GetGeoTransform()\n",
    "    projref = file_ds.GetProjectionRef()\n",
    "\n",
    "    file_ds = None\n",
    "\n",
    "    return file_arr, gt, projref"
   ]
  },
  {
   "cell_type": "code",
   "execution_count": 11,
   "metadata": {},
   "outputs": [],
   "source": [
    "base_path = \"./tests/IMG_DATA/\"\n",
    "reference = \"T18SUJ_20180809T154901_B04.jp2\"\n",
    "moving = \"T18SUJ_20180809T154901_B02.jp2\"\n",
    "\n",
    "moving_arr, moving_gt, moving_proj = open_as_array(os.path.join(base_path, moving))\n",
    "reference_arr, ref_gt, ref_proj = open_as_array(os.path.join(base_path, reference))"
   ]
  },
  {
   "cell_type": "code",
   "execution_count": 12,
   "metadata": {},
   "outputs": [
    {
     "name": "stderr",
     "output_type": "stream",
     "text": [
      "c:\\Users\\mtral\\Documents\\GitHub\\PythonPhaseCrossCorrelation\\PythonPhaseCrossCorrelation\\PCC\\PhaseCorrelationControl.py:121: Warning: `out_geo_transform` and `out_projection_ref` not given - you are unable to `save()` results\n",
      "  Warning,\n"
     ]
    },
    {
     "name": "stdout",
     "output_type": "stream",
     "text": [
      "Complete in: 0:00:50.711001\n"
     ]
    }
   ],
   "source": [
    "pcc = PhaseCorrelationControl(\n",
    "        reference_img=reference_arr,\n",
    "        moving_img=moving_arr,\n",
    "        upsample=0\n",
    "    )\n",
    "\n",
    "# Can't `.save()` this - no proj ref or geotransform given"
   ]
  },
  {
   "cell_type": "code",
   "execution_count": 13,
   "metadata": {},
   "outputs": [
    {
     "name": "stdout",
     "output_type": "stream",
     "text": [
      "Complete in: 0:00:50.354997\n"
     ]
    }
   ],
   "source": [
    "pcc = PhaseCorrelationControl(\n",
    "        reference_img=reference_arr,\n",
    "        moving_img=moving_arr,\n",
    "        upsample=0,\n",
    "        out_geo_transform=moving_gt,\n",
    "        out_projection_ref=moving_proj\n",
    "    )\n",
    "\n",
    "# Can `.save()` this - proj ref and geotransform given"
   ]
  },
  {
   "cell_type": "code",
   "execution_count": 14,
   "metadata": {},
   "outputs": [
    {
     "data": {
      "text/plain": [
       "'c:\\\\Users\\\\mtral\\\\Documents\\\\GitHub\\\\PythonPhaseCrossCorrelation\\\\PythonPhaseCrossCorrelation\\\\PCC\\\\parallax_2021-12-08T1227.tif'"
      ]
     },
     "execution_count": 14,
     "metadata": {},
     "output_type": "execute_result"
    }
   ],
   "source": [
    "pcc.outfile_full_path"
   ]
  },
  {
   "cell_type": "code",
   "execution_count": 15,
   "metadata": {},
   "outputs": [
    {
     "name": "stdout",
     "output_type": "stream",
     "text": [
      "126.27175272072384\n"
     ]
    }
   ],
   "source": [
    "pcc.save()"
   ]
  },
  {
   "cell_type": "markdown",
   "metadata": {},
   "source": [
    "## CLI\n",
    "\n",
    "python PythonPhaseCrossCorrelation/main.py [REFERENCE IMAGE PATH] [MOVING IMAGE PATH] **OPTIONS"
   ]
  },
  {
   "cell_type": "code",
   "execution_count": null,
   "metadata": {},
   "outputs": [],
   "source": [
    "!python PythonPhaseCrossCorrelation/main.py ./tests/IMG_DATA/T18SUJ_20180809T154901_B04.jp2 ./tests/IMG_DATA/T18SUJ_20180809T154901_B02.jp2"
   ]
  }
 ],
 "metadata": {
  "interpreter": {
   "hash": "26969a7a7011f88fec18f30c9488010b0267626173a16fc4870f4586129d279d"
  },
  "kernelspec": {
   "display_name": "Python 3.7.10 64-bit ('Parallax': conda)",
   "name": "python3"
  },
  "language_info": {
   "codemirror_mode": {
    "name": "ipython",
    "version": 3
   },
   "file_extension": ".py",
   "mimetype": "text/x-python",
   "name": "python",
   "nbconvert_exporter": "python",
   "pygments_lexer": "ipython3",
   "version": "3.7.10"
  }
 },
 "nbformat": 4,
 "nbformat_minor": 4
}

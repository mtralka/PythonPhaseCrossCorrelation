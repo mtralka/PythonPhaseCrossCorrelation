{
 "cells": [
  {
   "cell_type": "markdown",
   "source": [
    "# Optimized Python Phase Cross Correlation Example Notebook\n",
    "\n",
    "@title: Optimized Python Phase Cross Correlation\n",
    "\n",
    "@author: Matthew Tralka\n",
    "\n",
    "@date: September 2021\n",
    "\n",
    "@version: 1.0"
   ],
   "metadata": {}
  },
  {
   "cell_type": "code",
   "execution_count": 1,
   "source": [
    "from PythonPhaseCrossCorrelation import PhaseCorrelationControl"
   ],
   "outputs": [],
   "metadata": {}
  },
  {
   "cell_type": "code",
   "execution_count": 2,
   "source": [
    "base_path = \"PythonPhaseCrossCorrelation/tests/IMG_DATA/\"\r\n",
    "reference = \"T18SUJ_20180809T154901_B04.jp2\"\r\n",
    "moving = \"T18SUJ_20180809T154901_B02.jp2\""
   ],
   "outputs": [],
   "metadata": {}
  },
  {
   "cell_type": "code",
   "execution_count": 4,
   "source": [
    "PhaseCorrelationControl(\r\n",
    "        base_path + reference,\r\n",
    "        base_path + moving,\r\n",
    "        upsample=100\r\n",
    "    )"
   ],
   "outputs": [
    {
     "output_type": "stream",
     "name": "stderr",
     "text": [
      "c:\\Users\\mtral\\Documents\\GitHub\\PythonPhaseCrossCorrelation\\PythonPhaseCrossCorrelation\\PCC\\PhaseCorrelationControl.py:155: Warning: CPU upsampling not implemented. Performance will be impacted\n",
      "  Warning)\n"
     ]
    },
    {
     "output_type": "stream",
     "name": "stdout",
     "text": [
      "244.44065218218088\n",
      "Complete in: 0:05:50.780304\n"
     ]
    },
    {
     "output_type": "execute_result",
     "data": {
      "text/plain": [
       "<PythonPhaseCrossCorrelation.PCC.PhaseCorrelationControl.PhaseCorrelationControl at 0x2a01b07fe08>"
      ]
     },
     "metadata": {},
     "execution_count": 4
    }
   ],
   "metadata": {}
  },
  {
   "cell_type": "code",
   "execution_count": null,
   "source": [],
   "outputs": [],
   "metadata": {}
  }
 ],
 "metadata": {
  "interpreter": {
   "hash": "26969a7a7011f88fec18f30c9488010b0267626173a16fc4870f4586129d279d"
  },
  "kernelspec": {
   "name": "python3",
   "display_name": "Python 3.7.10 64-bit ('Parallax': conda)"
  },
  "language_info": {
   "codemirror_mode": {
    "name": "ipython",
    "version": 3
   },
   "file_extension": ".py",
   "mimetype": "text/x-python",
   "name": "python",
   "nbconvert_exporter": "python",
   "pygments_lexer": "ipython3",
   "version": "3.7.10"
  }
 },
 "nbformat": 4,
 "nbformat_minor": 4
}
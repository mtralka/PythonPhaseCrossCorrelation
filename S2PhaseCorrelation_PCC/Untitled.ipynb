{
 "cells": [
  {
   "cell_type": "code",
   "execution_count": 1,
   "metadata": {},
   "outputs": [],
   "source": [
    "from OPCC import PhaseCorrelationControl"
   ]
  },
  {
   "cell_type": "code",
   "execution_count": null,
   "metadata": {},
   "outputs": [],
   "source": []
  },
  {
   "cell_type": "code",
   "execution_count": 2,
   "metadata": {},
   "outputs": [],
   "source": [
    "reference = \"L1C_T18SUJ_A016353_20180809T160022/IMG_DATA/T18SUJ_20180809T154901_B04.jp2\"\n",
    "moving = \"L1C_T18SUJ_A016353_20180809T160022/IMG_DATA/T18SUJ_20180809T154901_B02.jp2\"\n",
    "outfile_dir = \"L1C_T18SUJ_A016353_20180809T160022\"\n",
    "outfile_name = \"testing\""
   ]
  },
  {
   "cell_type": "code",
   "execution_count": 3,
   "metadata": {},
   "outputs": [
    {
     "name": "stdout",
     "output_type": "stream",
     "text": [
      "126.27175272072384\n",
      "Complete in: 0:01:18.543941\n"
     ]
    },
    {
     "data": {
      "text/plain": [
       "<OPCC.PhaseCorrelationControl.PhaseCorrelationControl at 0x1d1a3689888>"
      ]
     },
     "execution_count": 3,
     "metadata": {},
     "output_type": "execute_result"
    }
   ],
   "source": [
    "PhaseCorrelationControl(\n",
    "        reference,\n",
    "        moving,\n",
    "#         outfile_dir=outfile_dir,\n",
    "#         outfile_name=outfile_name\n",
    "    )"
   ]
  }
 ],
 "metadata": {
  "kernelspec": {
   "display_name": "Python 3",
   "language": "python",
   "name": "python3"
  },
  "language_info": {
   "codemirror_mode": {
    "name": "ipython",
    "version": 3
   },
   "file_extension": ".py",
   "mimetype": "text/x-python",
   "name": "python",
   "nbconvert_exporter": "python",
   "pygments_lexer": "ipython3",
   "version": "3.7.10"
  }
 },
 "nbformat": 4,
 "nbformat_minor": 4
}

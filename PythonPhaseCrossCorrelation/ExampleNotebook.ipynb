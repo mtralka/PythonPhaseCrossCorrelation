{
 "cells": [
  {
   "cell_type": "markdown",
   "metadata": {},
   "source": [
    "# Optimized Python Phase Cross Correlation Example Notebook\n",
    "\n",
    "@title: Optimized Python Phase Cross Correlation\n",
    "\n",
    "@author: Matthew Tralka\n",
    "\n",
    "@date: September 2021\n",
    "\n",
    "@version: 1.0"
   ]
  },
  {
   "cell_type": "code",
   "execution_count": 1,
   "metadata": {},
   "outputs": [],
   "source": [
    "import os\n",
    "os.chdir('../')"
   ]
  },
  {
   "cell_type": "code",
   "execution_count": 2,
   "metadata": {},
   "outputs": [],
   "source": [
    "from PythonPhaseCrossCorrelation import PhaseCorrelationControl"
   ]
  },
  {
   "cell_type": "code",
   "execution_count": 5,
   "metadata": {},
   "outputs": [],
   "source": [
    "base_path = \"PythonPhaseCrossCorrelation/tests/IMG_DATA/\"\n",
    "reference = \"T18SUJ_20180809T154901_B04.jp2\"\n",
    "moving = \"T18SUJ_20180809T154901_B02.jp2\""
   ]
  },
  {
   "cell_type": "code",
   "execution_count": 6,
   "metadata": {},
   "outputs": [
    {
     "name": "stdout",
     "output_type": "stream",
     "text": [
      "126.27175272072384\n",
      "Complete in: 0:01:05.578542\n"
     ]
    },
    {
     "data": {
      "text/plain": [
       "<PythonPhaseCrossCorrelation.PCC.PhaseCorrelationControl.PhaseCorrelationControl at 0x7fc271e66650>"
      ]
     },
     "execution_count": 6,
     "metadata": {},
     "output_type": "execute_result"
    }
   ],
   "source": [
    "PhaseCorrelationControl(\n",
    "        base_path + reference,\n",
    "        base_path + moving,\n",
    "        upsample=1,\n",
    "        outfile_dir=\"/PythonPhaseCrossCorrelation\",\n",
    "        method=\"CPU\"\n",
    "    )"
   ]
  },
  {
   "cell_type": "code",
   "execution_count": null,
   "metadata": {},
   "outputs": [],
   "source": []
  }
 ],
 "metadata": {
  "interpreter": {
   "hash": "26969a7a7011f88fec18f30c9488010b0267626173a16fc4870f4586129d279d"
  },
  "kernelspec": {
   "display_name": "Python 3 (ipykernel)",
   "language": "python",
   "name": "python3"
  },
  "language_info": {
   "codemirror_mode": {
    "name": "ipython",
    "version": 3
   },
   "file_extension": ".py",
   "mimetype": "text/x-python",
   "name": "python",
   "nbconvert_exporter": "python",
   "pygments_lexer": "ipython3",
   "version": "3.7.11"
  }
 },
 "nbformat": 4,
 "nbformat_minor": 4
}
